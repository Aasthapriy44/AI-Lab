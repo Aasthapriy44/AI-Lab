{
  "nbformat": 4,
  "nbformat_minor": 0,
  "metadata": {
    "colab": {
      "provenance": [],
      "authorship_tag": "ABX9TyNYZV/Kuz/I9wwnPQtZSmgd",
      "include_colab_link": true
    },
    "kernelspec": {
      "name": "python3",
      "display_name": "Python 3"
    },
    "language_info": {
      "name": "python"
    }
  },
  "cells": [
    {
      "cell_type": "markdown",
      "metadata": {
        "id": "view-in-github",
        "colab_type": "text"
      },
      "source": [
        "<a href=\"https://colab.research.google.com/github/Aasthapriy44/Java/blob/main/1BM22CS003.ipynb\" target=\"_parent\"><img src=\"https://colab.research.google.com/assets/colab-badge.svg\" alt=\"Open In Colab\"/></a>"
      ]
    },
    {
      "cell_type": "code",
      "execution_count": 3,
      "metadata": {
        "colab": {
          "base_uri": "https://localhost:8080/"
        },
        "id": "gGWpJuoYUW0D",
        "outputId": "e6c36bcf-ce44-4e6c-ae26-d5835e9ba7a3"
      },
      "outputs": [
        {
          "output_type": "stream",
          "name": "stdout",
          "text": [
            " | | \n",
            "-----\n",
            " | | \n",
            "-----\n",
            " | | \n",
            "-----\n",
            "Enter your move (row, column): 0,0\n",
            "X| | \n",
            "-----\n",
            " | | \n",
            "-----\n",
            " | | \n",
            "-----\n",
            "Enter your move (row, column): 1,1\n",
            "X| | \n",
            "-----\n",
            " |O| \n",
            "-----\n",
            " | | \n",
            "-----\n",
            "Enter your move (row, column): 0,2\n",
            "X| |X\n",
            "-----\n",
            " |O| \n",
            "-----\n",
            " | | \n",
            "-----\n",
            "Enter your move (row, column): 0,1\n",
            "X|O|X\n",
            "-----\n",
            " |O| \n",
            "-----\n",
            " | | \n",
            "-----\n",
            "Enter your move (row, column): 2,1\n",
            "X|O|X\n",
            "-----\n",
            " |O| \n",
            "-----\n",
            " |X| \n",
            "-----\n",
            "Enter your move (row, column): 1,2\n",
            "X|O|X\n",
            "-----\n",
            " |O|O\n",
            "-----\n",
            " |X| \n",
            "-----\n",
            "Enter your move (row, column): 1,0\n",
            "X|O|X\n",
            "-----\n",
            "X|O|O\n",
            "-----\n",
            " |X| \n",
            "-----\n",
            "Enter your move (row, column): 2,2\n",
            "X|O|X\n",
            "-----\n",
            "X|O|O\n",
            "-----\n",
            " |X|O\n",
            "-----\n",
            "Enter your move (row, column): 2,0\n",
            "X|O|X\n",
            "-----\n",
            "X|O|O\n",
            "-----\n",
            "X|X|O\n",
            "-----\n",
            "Player X wins!\n"
          ]
        }
      ],
      "source": [
        "def create_board():\n",
        "  return [[\" \" for _ in range(3)] for _ in range(3)]\n",
        "\n",
        "def print_board(board):\n",
        "  for row in board:\n",
        "    print(\"|\".join(row))\n",
        "    print(\"-\" * 5)\n",
        "\n",
        "def get_player_move(board):\n",
        "  while True:\n",
        "    try:\n",
        "      row, col = map(int, input(\"Enter your move (row, column): \").split(\",\"))\n",
        "      if 0 <= row <= 2 and 0 <= col <= 2 and board[row][col] == \" \":\n",
        "        return row, col\n",
        "      else:\n",
        "        print(\"Invalid move. Try again.\")\n",
        "    except ValueError:\n",
        "      print(\"Invalid input. Enter row and column numbers separated by a comma.\")\n",
        "\n",
        "def check_win(board, player):\n",
        "  for i in range(3):\n",
        "    if all(board[i][j] == player for j in range(3)) or all(board[j][i] == player for j in range(3)):\n",
        "      return True\n",
        "  if (board[0][0] == player and board[1][1] == player and board[2][2] == player) or \\\n",
        "     (board[0][2] == player and board[1][1] == player and board[2][0] == player):\n",
        "    return True\n",
        "  return False\n",
        "\n",
        "def check_draw(board):\n",
        "  for row in board:\n",
        "    for cell in row:\n",
        "      if cell == \" \":\n",
        "        return False\n",
        "  return True\n",
        "\n",
        "def play_tic_tac_toe():\n",
        "  board = create_board()\n",
        "  current_player = \"X\"\n",
        "\n",
        "  while True:\n",
        "    print_board(board)\n",
        "    row, col = get_player_move(board)\n",
        "    board[row][col] = current_player\n",
        "\n",
        "    if check_win(board, current_player):\n",
        "      print_board(board)\n",
        "      print(f\"Player {current_player} wins!\")\n",
        "      break\n",
        "    elif check_draw(board):\n",
        "      print_board(board)\n",
        "      print(\"It's a draw!\")\n",
        "      break\n",
        "\n",
        "    current_player = \"O\" if current_player == \"X\" else \"X\"\n",
        "\n",
        "play_tic_tac_toe()"
      ]
    },
    {
      "cell_type": "code",
      "source": [
        "\n",
        "def is_room_clean(room):\n",
        "  if room == \"A\":\n",
        "    return True\n",
        "  elif room == \"B\":\n",
        "    return True\n",
        "  return False\n",
        "\n",
        "def clean_room(room):\n",
        "\n",
        "  print(f\"Cleaning room {room}...\")\n",
        "  print(f\"cleaned {room}\")\n",
        "\n",
        "\n",
        "if not is_room_clean(\"A\"):\n",
        "  clean_room(\"A\")\n",
        "\n",
        "# Move to room B and check\n",
        "if is_room_clean(\"A\"):\n",
        "  if not is_room_clean(\"B\"):\n",
        "    clean_room(\"B\")\n",
        "\n",
        "  if is_room_clean(\"B\"):\n",
        "    print(\"Both rooms A and B are clean!\")\n",
        "\n"
      ],
      "metadata": {
        "colab": {
          "base_uri": "https://localhost:8080/"
        },
        "id": "PvmDvz6BX31L",
        "outputId": "d8545a0e-f5ec-4168-bc3f-6ebe76183d9d"
      },
      "execution_count": 8,
      "outputs": [
        {
          "output_type": "stream",
          "name": "stdout",
          "text": [
            "Both rooms A and B are clean!\n"
          ]
        }
      ]
    }
  ]
}