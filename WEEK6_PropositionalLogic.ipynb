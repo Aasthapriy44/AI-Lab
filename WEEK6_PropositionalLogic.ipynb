{
  "nbformat": 4,
  "nbformat_minor": 0,
  "metadata": {
    "colab": {
      "provenance": [],
      "authorship_tag": "ABX9TyPzLFRR1F3rzEb8eTuCWbQr",
      "include_colab_link": true
    },
    "kernelspec": {
      "name": "python3",
      "display_name": "Python 3"
    },
    "language_info": {
      "name": "python"
    }
  },
  "cells": [
    {
      "cell_type": "markdown",
      "metadata": {
        "id": "view-in-github",
        "colab_type": "text"
      },
      "source": [
        "<a href=\"https://colab.research.google.com/github/Aasthapriy44/AI-Lab/blob/main/WEEK6_PropositionalLogic.ipynb\" target=\"_parent\"><img src=\"https://colab.research.google.com/assets/colab-badge.svg\" alt=\"Open In Colab\"/></a>"
      ]
    },
    {
      "cell_type": "code",
      "execution_count": 2,
      "metadata": {
        "colab": {
          "base_uri": "https://localhost:8080/"
        },
        "id": "cyDBEncw3llv",
        "outputId": "5bc6d14c-0742-4470-e4c9-ce1b5aba8e19"
      },
      "outputs": [
        {
          "output_type": "stream",
          "name": "stdout",
          "text": [
            "KB entails R\n"
          ]
        }
      ],
      "source": [
        "import random\n",
        "import itertools\n",
        "import math\n",
        "\n",
        "def eval_formula(formula, assignment):\n",
        "    formula = formula.replace('and', 'and').replace('or', 'or').replace('not', 'not')\n",
        "    formula = formula.replace('→', ' or not ')  # Implication A → B is equivalent to (not A or B)\n",
        "    formula = formula.replace('↔', '==')  # Equivalence A ↔ B is equivalent to (A == B)\n",
        "\n",
        "    env = {var: value for var, value in zip(assignment.keys(), assignment.values())}\n",
        "\n",
        "    return eval(formula, {}, env)\n",
        "\n",
        "def generate_initial_state(variables):\n",
        "    return {var: random.choice([True, False]) for var in variables}\n",
        "\n",
        "def entails(KB, alpha):\n",
        "    # Find all unique variables in KB and alpha\n",
        "    variables = set(''.join([ch for ch in ''.join(KB + [alpha]) if ch.isalpha()]))\n",
        "\n",
        "    # Generate all possible truth assignments for the variables\n",
        "    truth_assignments = list(itertools.product([True, False], repeat=len(variables)))\n",
        "    var_list = list(variables)\n",
        "\n",
        "    for assignment in truth_assignments:\n",
        "        # Map the truth assignment to each variable\n",
        "        assignment_dict = dict(zip(var_list, assignment))\n",
        "\n",
        "        # Combine all KB formulas with AND and evaluate\n",
        "        kb_combined = all(eval_formula(formula, assignment_dict) for formula in KB)\n",
        "        alpha_true = eval_formula(alpha, assignment_dict)\n",
        "\n",
        "        # If KB is true and alpha is false for any assignment, KB does not entail alpha\n",
        "        if kb_combined and not alpha_true:\n",
        "            return False\n",
        "\n",
        "    # If we reach here, it means KB entails alpha\n",
        "    return True\n",
        "\n",
        "# Example Usage →\n",
        "KB = [\"not Q or P\", \"not P or (not Q)\", \"Q or R\"]\n",
        "alpha = \"R\"\n",
        "\n",
        "# Check if KB entails alpha\n",
        "if entails(KB, alpha):\n",
        "    print(\"KB entails R\")\n",
        "else:\n",
        "    print(\"KB does not entail R\")\n",
        "\n",
        "\n",
        "\n"
      ]
    },
    {
      "cell_type": "code",
      "source": [
        "import random\n",
        "import itertools\n",
        "import math\n",
        "\n",
        "def eval_formula(formula, assignment):\n",
        "    formula = formula.replace('and', 'and').replace('or', 'or').replace('not', 'not')\n",
        "    formula = formula.replace('→', ' or not ')  # Implication A → B is equivalent to (not A or B)\n",
        "    formula = formula.replace('↔', '==')  # Equivalence A ↔ B is equivalent to (A == B)\n",
        "\n",
        "    env = {var: value for var, value in zip(assignment.keys(), assignment.values())}\n",
        "\n",
        "    return eval(formula, {}, env)\n",
        "\n",
        "def generate_initial_state(variables):\n",
        "    return {var: random.choice([True, False]) for var in variables}\n",
        "\n",
        "def entails(KB, alpha):\n",
        "    # Find all unique variables in KB and alpha\n",
        "    variables = set(''.join([ch for ch in ''.join(KB + [alpha]) if ch.isalpha()]))\n",
        "\n",
        "    # Generate all possible truth assignments for the variables\n",
        "    truth_assignments = list(itertools.product([True, False], repeat=len(variables)))\n",
        "    var_list = list(variables)\n",
        "\n",
        "    for assignment in truth_assignments:\n",
        "        # Map the truth assignment to each variable\n",
        "        assignment_dict = dict(zip(var_list, assignment))\n",
        "\n",
        "        # Combine all KB formulas with AND and evaluate\n",
        "        kb_combined = all(eval_formula(formula, assignment_dict) for formula in KB)\n",
        "        alpha_true = eval_formula(alpha, assignment_dict)\n",
        "\n",
        "        # If KB is true and alpha is false for any assignment, KB does not entail alpha\n",
        "        if kb_combined and not alpha_true:\n",
        "            return False\n",
        "\n",
        "    # If we reach here, it means KB entails alpha\n",
        "    return True\n",
        "\n",
        "# Example Usage →\n",
        "KB = [\"not Q or P\", \"not P or (not Q)\", \"Q or R\"]\n",
        "alpha = \"not R or P\"\n",
        "\n",
        "# Check if KB entails alpha\n",
        "if entails(KB, alpha):\n",
        "    print(\"KB entails R\")\n",
        "else:\n",
        "    print(\"KB does not entail R\")"
      ],
      "metadata": {
        "colab": {
          "base_uri": "https://localhost:8080/"
        },
        "id": "aaHE8mNT4T3x",
        "outputId": "9f6ffd51-e69c-4485-da0a-8472ff1d6755"
      },
      "execution_count": 3,
      "outputs": [
        {
          "output_type": "stream",
          "name": "stdout",
          "text": [
            "KB does not entail R\n"
          ]
        }
      ]
    }
  ]
}