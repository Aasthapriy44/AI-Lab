{
  "nbformat": 4,
  "nbformat_minor": 0,
  "metadata": {
    "colab": {
      "provenance": [],
      "authorship_tag": "ABX9TyOhXA1pnk3RPDdFLEfHDPuB",
      "include_colab_link": true
    },
    "kernelspec": {
      "name": "python3",
      "display_name": "Python 3"
    },
    "language_info": {
      "name": "python"
    }
  },
  "cells": [
    {
      "cell_type": "markdown",
      "metadata": {
        "id": "view-in-github",
        "colab_type": "text"
      },
      "source": [
        "<a href=\"https://colab.research.google.com/github/Aasthapriy44/AI-Lab/blob/main/lab_1VaccumCleaner.ipynb\" target=\"_parent\"><img src=\"https://colab.research.google.com/assets/colab-badge.svg\" alt=\"Open In Colab\"/></a>"
      ]
    },
    {
      "cell_type": "code",
      "execution_count": 1,
      "metadata": {
        "colab": {
          "base_uri": "https://localhost:8080/"
        },
        "id": "8Ar_na99xvE0",
        "outputId": "16cad755-0780-4263-ed54-ac5fa9920468"
      },
      "outputs": [
        {
          "output_type": "stream",
          "name": "stdout",
          "text": [
            "Both rooms A and B are clean!\n"
          ]
        }
      ],
      "source": [
        "def is_room_clean(room):\n",
        "  if room == \"A\":\n",
        "    return True\n",
        "  elif room == \"B\":\n",
        "    return True\n",
        "  return False\n",
        "\n",
        "def clean_room(room):\n",
        "\n",
        "  print(f\"Cleaning room {room}...\")\n",
        "  print(f\"cleaned {room}\")\n",
        "\n",
        "\n",
        "if not is_room_clean(\"A\"):\n",
        "  clean_room(\"A\")\n",
        "\n",
        "# Move to room B and check\n",
        "if is_room_clean(\"A\"):\n",
        "  if not is_room_clean(\"B\"):\n",
        "    clean_room(\"B\")\n",
        "\n",
        "  if is_room_clean(\"B\"):\n",
        "    print(\"Both rooms A and B are clean!\")"
      ]
    }
  ]
}